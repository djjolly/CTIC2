{
 "cells": [
  {
   "attachments": {
    "c7f7c716-f1b0-4d55-a6ab-0577a4d54a74.png": {
     "image/png": "[encoded data removed]"
    }
   },
   "cell_type": "markdown",
   "id": "06610c95",
   "metadata": {
    "papermill": {
     "duration": 0.012109,
     "end_time": "2022-04-13T06:27:44.220402",
     "exception": false,
     "start_time": "2022-04-13T06:27:44.208293",
     "status": "completed"
    },
    "tags": []
   },
   "source": [
    "# Machine Learning CT Data <img src=\"attachment:c7f7c716-f1b0-4d55-a6ab-0577a4d54a74.png\" align=\"right\">\n",
    "## David Jolly, Senior Medical Physicist\n",
    "### Icon Cancer Centre"
   ]
  },
  {
   "cell_type": "markdown",
   "id": "b9b57048",
   "metadata": {
    "papermill": {
     "duration": 0.010346,
     "end_time": "2022-04-13T06:27:44.241567",
     "exception": false,
     "start_time": "2022-04-13T06:27:44.231221",
     "status": "completed"
    },
    "tags": []
   },
   "source": [
    "### Abridged Data Dictionary\n",
    "\n",
    "There are 39 columns of data within this set, the below dictionary is abridged to display only information pertinent to this study.\n",
    "\n",
    "| Field | Description\n",
    "| :--- | :---\n",
    "| **PatientID** | Anonymised unique patient identifier - Primary Key\n",
    "| **StudyDate** | Date that image was taken, format is DD/MM/YYYY hh:mm:ss\n",
    "| **Manufacturer** | Vendor whom produced imaging system (CT or MR)\n",
    "| **Model** | Model of imaging system\n",
    "| **Institution** | Location where scanner is located\n",
    "| **Modality** | CT or MR, only interested in CT data for this work, so MR will be filtered out\n",
    "| **BodyRegion** | Anatomical region of scanned patient, IMPORTANT DATA\n",
    "| **srt** | Stands for 'stereotactic radiation therapy'. 0 = non-stereo and 1 = stereo. Scan parameters may differ between techniques and thus data may need to be filtered and analysed independently. \n",
    "| **SliceThickness** | Physical distance between image slices (mm)\n",
    "| **kVP** | Kilovoltage peak is the peak potential (V) applied to the CT X-ray tube\n",
    "| **ReconstructionDiameter** | Diameter of reconstructed image (mm)\n",
    "| **ExposureTime** | Total time of radiation exposure (ms)\n",
    "| **TubeCurrent** | Current applied to kV tube (mA), a higher number represents more X-rays and thus a 'stronger' beam\n",
    "| **FilterType** | Type of filtration used on X-ray beam\n",
    "| **FocalSpotSize** | Focal spot size on X-ray target (mm), smaller values give better resolution\n",
    "| **ConvolutionKernal** | Algorithm used to reconstruct images from raw data\n",
    "| **PatientPosition** | Orientation of patient when scanned. HFS = head first supine, FFS = feet first supine, HFP = head first prone, HFDL = head first-decubitus left, HFDR = head first-decubitus reft, FFDL = feet first-decubitus left, FFDR = feet first-decubitus left. FFP = feet first prone\n",
    "| **CTDIvol** | CT dose index (mGy), measure of patient x-ray dose. Want to minimise value without compromising image quality."
   ]
  },
  {
   "cell_type": "code",
   "execution_count": 1,
   "id": "41aa49d5",
   "metadata": {
    "execution": {
     "iopub.execute_input": "2022-04-13T06:27:44.272989Z",
     "iopub.status.busy": "2022-04-13T06:27:44.271537Z",
     "iopub.status.idle": "2022-04-13T06:27:45.763195Z",
     "shell.execute_reply": "2022-04-13T06:27:45.762376Z",
     "shell.execute_reply.started": "2022-04-13T01:32:27.002299Z"
    },
    "papermill": {
     "duration": 1.511238,
     "end_time": "2022-04-13T06:27:45.763365",
     "exception": false,
     "start_time": "2022-04-13T06:27:44.252127",
     "status": "completed"
    },
    "tags": []
   },
   "outputs": [],
   "source": [
    "#Importing Libraries\n",
    "\n",
    "import pandas as pd\n",
    "from sklearn.metrics import mean_absolute_error\n",
    "from sklearn.model_selection import train_test_split\n",
    "from sklearn.tree import DecisionTreeRegressor\n",
    "from sklearn.ensemble import RandomForestRegressor"
   ]
  },
  {
   "cell_type": "code",
   "execution_count": 2,
   "id": "68c28820",
   "metadata": {
    "execution": {
     "iopub.execute_input": "2022-04-13T06:27:45.789740Z",
     "iopub.status.busy": "2022-04-13T06:27:45.788999Z",
     "iopub.status.idle": "2022-04-13T06:27:45.872763Z",
     "shell.execute_reply": "2022-04-13T06:27:45.873501Z",
     "shell.execute_reply.started": "2022-04-13T01:32:27.028720Z"
    },
    "papermill": {
     "duration": 0.099393,
     "end_time": "2022-04-13T06:27:45.873758",
     "exception": false,
     "start_time": "2022-04-13T06:27:45.774365",
     "status": "completed"
    },
    "tags": []
   },
   "outputs": [],
   "source": [
    "#Importing Raw csv data\n",
    "def import_ctic():\n",
    "    return pd.read_csv('../input/ic-data/Image_Compliance_DATA.csv')\n",
    "\n",
    "ctic = import_ctic()"
   ]
  },
  {
   "cell_type": "markdown",
   "id": "91be6e30",
   "metadata": {
    "papermill": {
     "duration": 0.010281,
     "end_time": "2022-04-13T06:27:45.894890",
     "exception": false,
     "start_time": "2022-04-13T06:27:45.884609",
     "status": "completed"
    },
    "tags": []
   },
   "source": [
    "## Data Cleaning"
   ]
  },
  {
   "cell_type": "code",
   "execution_count": 3,
   "id": "2f8a9b37",
   "metadata": {
    "execution": {
     "iopub.execute_input": "2022-04-13T06:27:45.919594Z",
     "iopub.status.busy": "2022-04-13T06:27:45.918884Z",
     "iopub.status.idle": "2022-04-13T06:27:45.983277Z",
     "shell.execute_reply": "2022-04-13T06:27:45.982654Z",
     "shell.execute_reply.started": "2022-04-13T01:32:27.066532Z"
    },
    "papermill": {
     "duration": 0.078005,
     "end_time": "2022-04-13T06:27:45.983419",
     "exception": false,
     "start_time": "2022-04-13T06:27:45.905414",
     "status": "completed"
    },
    "tags": []
   },
   "outputs": [],
   "source": [
    "#Dropping all non-CT data (MR and PT)\n",
    "ctic.drop(ctic[ctic['Modality'] == 'MR'].index, inplace = True)\n",
    "ctic.drop(ctic[ctic['Modality'] == 'PT'].index, inplace = True)\n",
    "\n",
    "#Filling in several columns that contain NaN\n",
    "ctic.fillna({'FilterType': 'Filter Unknown', 'Institution':'Institution Unknown'}, inplace=True)\n",
    "\n",
    "#Converting 'StudyDate' to DateTime format\n",
    "ctic['StudyDate'] = pd.to_datetime(ctic['StudyDate'])\n",
    "\n",
    "#Dropping rows without a specified BodyRegion\n",
    "ctic.drop(ctic[ctic['BodyRegion'] == '(body region unspecified)'].index, inplace = True)\n",
    "\n",
    "#Removing all data from one scanner as it is an outlier and skews the data\n",
    "ctic.drop(ctic[(ctic.Institution == 'QXR St Andrews')].index, inplace = True)\n"
   ]
  },
  {
   "cell_type": "markdown",
   "id": "5a9dda63",
   "metadata": {
    "papermill": {
     "duration": 0.010491,
     "end_time": "2022-04-13T06:27:46.005206",
     "exception": false,
     "start_time": "2022-04-13T06:27:45.994715",
     "status": "completed"
    },
    "tags": []
   },
   "source": [
    "### Presenting cleaned data columns of interest"
   ]
  },
  {
   "cell_type": "code",
   "execution_count": 4,
   "id": "e6b2cc01",
   "metadata": {
    "execution": {
     "iopub.execute_input": "2022-04-13T06:27:46.037341Z",
     "iopub.status.busy": "2022-04-13T06:27:46.036640Z",
     "iopub.status.idle": "2022-04-13T06:27:46.058684Z",
     "shell.execute_reply": "2022-04-13T06:27:46.059226Z",
     "shell.execute_reply.started": "2022-04-13T01:32:27.113124Z"
    },
    "papermill": {
     "duration": 0.043096,
     "end_time": "2022-04-13T06:27:46.059399",
     "exception": false,
     "start_time": "2022-04-13T06:27:46.016303",
     "status": "completed"
    },
    "tags": []
   },
   "outputs": [
    {
     "data": {
      "text/html": [
       "<div>\n",
       "<style scoped>\n",
       "    .dataframe tbody tr th:only-of-type {\n",
       "        vertical-align: middle;\n",
       "    }\n",
       "\n",
       "    .dataframe tbody tr th {\n",
       "        vertical-align: top;\n",
       "    }\n",
       "\n",
       "    .dataframe thead th {\n",
       "        text-align: right;\n",
       "    }\n",
       "</style>\n",
       "<table border=\"1\" class=\"dataframe\">\n",
       "  <thead>\n",
       "    <tr style=\"text-align: right;\">\n",
       "      <th></th>\n",
       "      <th>StudyDate</th>\n",
       "      <th>Manufacturer</th>\n",
       "      <th>Model</th>\n",
       "      <th>Institution</th>\n",
       "      <th>BodyRegion</th>\n",
       "      <th>TubeCurrent</th>\n",
       "      <th>PatientPosition</th>\n",
       "      <th>CTDIvol</th>\n",
       "      <th>ConvolutionKernal</th>\n",
       "      <th>kVP</th>\n",
       "      <th>srt</th>\n",
       "      <th>SliceThickness</th>\n",
       "      <th>ExposureTime</th>\n",
       "    </tr>\n",
       "  </thead>\n",
       "  <tbody>\n",
       "    <tr>\n",
       "      <th>1</th>\n",
       "      <td>2021-04-14</td>\n",
       "      <td>GE MEDICAL SYSTEMS</td>\n",
       "      <td>Optima CT660</td>\n",
       "      <td>Windsor Gardens Oncology</td>\n",
       "      <td>Pelvis</td>\n",
       "      <td>411</td>\n",
       "      <td>HFS</td>\n",
       "      <td>0.000000</td>\n",
       "      <td>STANDARD</td>\n",
       "      <td>120</td>\n",
       "      <td>0</td>\n",
       "      <td>2.5</td>\n",
       "      <td>600</td>\n",
       "    </tr>\n",
       "    <tr>\n",
       "      <th>3</th>\n",
       "      <td>2021-04-15</td>\n",
       "      <td>SIEMENS</td>\n",
       "      <td>SOMATOM Confidence</td>\n",
       "      <td>ICON Midland</td>\n",
       "      <td>Chest</td>\n",
       "      <td>155</td>\n",
       "      <td>HFS</td>\n",
       "      <td>8.019834</td>\n",
       "      <td>Bf37f</td>\n",
       "      <td>120</td>\n",
       "      <td>0</td>\n",
       "      <td>2.0</td>\n",
       "      <td>500</td>\n",
       "    </tr>\n",
       "    <tr>\n",
       "      <th>4</th>\n",
       "      <td>2021-04-19</td>\n",
       "      <td>TOSHIBA</td>\n",
       "      <td>Aquilion ONE</td>\n",
       "      <td>QXR GCPH</td>\n",
       "      <td>Head</td>\n",
       "      <td>300</td>\n",
       "      <td>HFS</td>\n",
       "      <td>79.600000</td>\n",
       "      <td>FC26</td>\n",
       "      <td>120</td>\n",
       "      <td>1</td>\n",
       "      <td>1.0</td>\n",
       "      <td>750</td>\n",
       "    </tr>\n",
       "    <tr>\n",
       "      <th>5</th>\n",
       "      <td>2021-04-20</td>\n",
       "      <td>TOSHIBA</td>\n",
       "      <td>Aquilion ONE</td>\n",
       "      <td>QXR GCPH</td>\n",
       "      <td>Chest</td>\n",
       "      <td>150</td>\n",
       "      <td>HFS</td>\n",
       "      <td>10.300000</td>\n",
       "      <td>FC13</td>\n",
       "      <td>120</td>\n",
       "      <td>0</td>\n",
       "      <td>2.0</td>\n",
       "      <td>500</td>\n",
       "    </tr>\n",
       "    <tr>\n",
       "      <th>6</th>\n",
       "      <td>2021-04-20</td>\n",
       "      <td>SIEMENS</td>\n",
       "      <td>SOMATOM Confidence</td>\n",
       "      <td>ICON Midland</td>\n",
       "      <td>Chest</td>\n",
       "      <td>515</td>\n",
       "      <td>HFS</td>\n",
       "      <td>26.646544</td>\n",
       "      <td>Bf37f</td>\n",
       "      <td>120</td>\n",
       "      <td>0</td>\n",
       "      <td>2.0</td>\n",
       "      <td>500</td>\n",
       "    </tr>\n",
       "  </tbody>\n",
       "</table>\n",
       "</div>"
      ],
      "text/plain": [
       "   StudyDate        Manufacturer               Model  \\\n",
       "1 2021-04-14  GE MEDICAL SYSTEMS        Optima CT660   \n",
       "3 2021-04-15             SIEMENS  SOMATOM Confidence   \n",
       "4 2021-04-19             TOSHIBA        Aquilion ONE   \n",
       "5 2021-04-20             TOSHIBA        Aquilion ONE   \n",
       "6 2021-04-20             SIEMENS  SOMATOM Confidence   \n",
       "\n",
       "                Institution BodyRegion  TubeCurrent PatientPosition  \\\n",
       "1  Windsor Gardens Oncology     Pelvis          411             HFS   \n",
       "3              ICON Midland      Chest          155             HFS   \n",
       "4                  QXR GCPH       Head          300             HFS   \n",
       "5                  QXR GCPH      Chest          150             HFS   \n",
       "6              ICON Midland      Chest          515             HFS   \n",
       "\n",
       "     CTDIvol ConvolutionKernal  kVP srt  SliceThickness  ExposureTime  \n",
       "1   0.000000          STANDARD  120   0             2.5           600  \n",
       "3   8.019834             Bf37f  120   0             2.0           500  \n",
       "4  79.600000              FC26  120   1             1.0           750  \n",
       "5  10.300000              FC13  120   0             2.0           500  \n",
       "6  26.646544             Bf37f  120   0             2.0           500  "
      ]
     },
     "execution_count": 4,
     "metadata": {},
     "output_type": "execute_result"
    }
   ],
   "source": [
    "ctic_clean = ctic[[ 'StudyDate',\n",
    "                    'Manufacturer',\n",
    "                    'Model',\n",
    "                    'Institution',\n",
    "                    'BodyRegion',\n",
    "                    'TubeCurrent',\n",
    "                    'PatientPosition',\n",
    "                    'CTDIvol',\n",
    "                    'ConvolutionKernal',\n",
    "                    'kVP',\n",
    "                    'srt',\n",
    "                    'SliceThickness',\n",
    "                    'ExposureTime']]\n",
    "ctic_clean.head(5)"
   ]
  },
  {
   "cell_type": "code",
   "execution_count": 5,
   "id": "5b6762c9",
   "metadata": {
    "execution": {
     "iopub.execute_input": "2022-04-13T06:27:46.091917Z",
     "iopub.status.busy": "2022-04-13T06:27:46.091195Z",
     "iopub.status.idle": "2022-04-13T06:27:46.094447Z",
     "shell.execute_reply": "2022-04-13T06:27:46.093847Z",
     "shell.execute_reply.started": "2022-04-13T01:32:27.135723Z"
    },
    "papermill": {
     "duration": 0.023475,
     "end_time": "2022-04-13T06:27:46.094590",
     "exception": false,
     "start_time": "2022-04-13T06:27:46.071115",
     "status": "completed"
    },
    "tags": []
   },
   "outputs": [],
   "source": [
    "#Creating a new DataFrame that removes all rows with a CTDIvol value of 0 (some CT scanners do not report this value)\n",
    "drop_ctdi0 = ctic_clean.drop(ctic_clean[(ctic_clean.CTDIvol == 0)].index)"
   ]
  },
  {
   "cell_type": "markdown",
   "id": "92822f6d",
   "metadata": {
    "papermill": {
     "duration": 0.011078,
     "end_time": "2022-04-13T06:27:46.117036",
     "exception": false,
     "start_time": "2022-04-13T06:27:46.105958",
     "status": "completed"
    },
    "tags": []
   },
   "source": [
    "## Set-up for decision Tree"
   ]
  },
  {
   "cell_type": "code",
   "execution_count": 6,
   "id": "3c311500",
   "metadata": {
    "execution": {
     "iopub.execute_input": "2022-04-13T06:27:46.156455Z",
     "iopub.status.busy": "2022-04-13T06:27:46.155725Z",
     "iopub.status.idle": "2022-04-13T06:27:46.173139Z",
     "shell.execute_reply": "2022-04-13T06:27:46.172416Z",
     "shell.execute_reply.started": "2022-04-13T01:32:27.145781Z"
    },
    "papermill": {
     "duration": 0.044929,
     "end_time": "2022-04-13T06:27:46.173302",
     "exception": false,
     "start_time": "2022-04-13T06:27:46.128373",
     "status": "completed"
    },
    "tags": []
   },
   "outputs": [
    {
     "name": "stdout",
     "output_type": "stream",
     "text": [
      "Validation MAE with optimal max_leaf_nodes: 114 mAs\n"
     ]
    }
   ],
   "source": [
    "# Create target object and call it y\n",
    "y = drop_ctdi0.TubeCurrent\n",
    "\n",
    "# Create X\n",
    "#['BodyRegion', 'kVP','srt', 'SliceThickness', 'ExposureTime'] srt and SliceThickness have no impact on model accuracy\n",
    "features = ['BodyRegion', 'kVP', 'ExposureTime']\n",
    "X = drop_ctdi0[features]\n",
    "\n",
    "# Split into validation and training data\n",
    "train_X, val_X, train_y, val_y = train_test_split(X, y, random_state=1)\n",
    "\n",
    "#Encoding categorical BodyRegion data with dummy values\n",
    "one_hot_encoded_train_X = pd.get_dummies(train_X)\n",
    "one_hot_encoded_val_X = pd.get_dummies(val_X)\n",
    "final_train, final_val = one_hot_encoded_train_X.align(one_hot_encoded_val_X, join='left', axis=1)\n",
    "\n",
    "# Specify Model\n",
    "ctdi_model = DecisionTreeRegressor(max_leaf_nodes=25, random_state=1)\n",
    "# Fit Model\n",
    "ctdi_model.fit(final_train, train_y)\n",
    "\n",
    "# Make validation predictions and calculate mean absolute error\n",
    "TubeCurrent_predictions = ctdi_model.predict(final_val)\n",
    "TubeCurrent_mae = mean_absolute_error(TubeCurrent_predictions, val_y)\n",
    "print(\"Validation MAE with optimal max_leaf_nodes: {:,.0f} mAs\".format(TubeCurrent_mae))"
   ]
  },
  {
   "cell_type": "markdown",
   "id": "cb09b1fa",
   "metadata": {
    "papermill": {
     "duration": 0.011254,
     "end_time": "2022-04-13T06:27:46.196928",
     "exception": false,
     "start_time": "2022-04-13T06:27:46.185674",
     "status": "completed"
    },
    "tags": []
   },
   "source": [
    "## Random Forest"
   ]
  },
  {
   "cell_type": "code",
   "execution_count": 7,
   "id": "05aaf51c",
   "metadata": {
    "execution": {
     "iopub.execute_input": "2022-04-13T06:27:46.228212Z",
     "iopub.status.busy": "2022-04-13T06:27:46.227527Z",
     "iopub.status.idle": "2022-04-13T06:27:46.477149Z",
     "shell.execute_reply": "2022-04-13T06:27:46.476376Z",
     "shell.execute_reply.started": "2022-04-13T01:32:27.172677Z"
    },
    "papermill": {
     "duration": 0.268916,
     "end_time": "2022-04-13T06:27:46.477302",
     "exception": false,
     "start_time": "2022-04-13T06:27:46.208386",
     "status": "completed"
    },
    "tags": []
   },
   "outputs": [
    {
     "name": "stdout",
     "output_type": "stream",
     "text": [
      "Validation MAE for Random Forest Model: 114.38199862252887\n"
     ]
    }
   ],
   "source": [
    "from sklearn.ensemble import RandomForestRegressor\n",
    "\n",
    "# Define the model. Set random_state to 1\n",
    "rf_model = RandomForestRegressor(random_state=1)\n",
    "\n",
    "# fit your model\n",
    "rf_model.fit(final_train, train_y)\n",
    "\n",
    "# Calculate the mean absolute error of your Random Forest model on the validation data\n",
    "rf_val_predictions = rf_model.predict(final_val)\n",
    "rf_val_mae = mean_absolute_error(rf_val_predictions, val_y)\n",
    "\n",
    "print(\"Validation MAE for Random Forest Model: {}\".format(rf_val_mae))"
   ]
  }
 ],
 "metadata": {
  "kernelspec": {
   "display_name": "Python 3",
   "language": "python",
   "name": "python3"
  },
  "language_info": {
   "codemirror_mode": {
    "name": "ipython",
    "version": 3
   },
   "file_extension": ".py",
   "mimetype": "text/x-python",
   "name": "python",
   "nbconvert_exporter": "python",
   "pygments_lexer": "ipython3",
   "version": "3.7.12"
  },
  "papermill": {
   "default_parameters": {},
   "duration": 14.010413,
   "end_time": "2022-04-13T06:27:47.301643",
   "environment_variables": {},
   "exception": null,
   "input_path": "__notebook__.ipynb",
   "output_path": "__notebook__.ipynb",
   "parameters": {},
   "start_time": "2022-04-13T06:27:33.291230",
   "version": "2.3.3"
  }
 },
 "nbformat": 4,
 "nbformat_minor": 5
}
